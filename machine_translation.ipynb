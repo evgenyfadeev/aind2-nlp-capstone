{
 "cells": [
  {
   "cell_type": "markdown",
   "metadata": {
    "collapsed": true
   },
   "source": [
    "# Artificial Intelligence Nanodegree\n",
    "## Machine Translation Project\n",
    "In this notebook, sections that end with **'(IMPLEMENTATION)'** in the header indicate that the following blocks of code will require additional functionality which you must provide. Please be sure to read the instructions carefully!\n",
    "\n",
    "## Introduction\n",
    "In this notebook, you will build a deep neural network that functions as part of an end-to-end machine translation pipeline. Your completed pipeline will accept English text as input and return the French translation.\n",
    "\n",
    "- **Preprocess** - You'll convert text to sequence of integers.\n",
    "- **Models** Create models which accepts a sequence of integers as input and returns a probability distribution over possible translations. After learning about the basic types of neural networks that are often used for machine translation, you will engage in your own investigations, to design your own model!\n",
    "- **Prediction** Run the model on English text."
   ]
  },
  {
   "cell_type": "code",
   "execution_count": 1,
   "metadata": {},
   "outputs": [],
   "source": [
    "%load_ext autoreload\n",
    "%aimport helper, tests\n",
    "%autoreload 1"
   ]
  },
  {
   "cell_type": "code",
   "execution_count": 2,
   "metadata": {},
   "outputs": [
    {
     "name": "stderr",
     "output_type": "stream",
     "text": [
      "Using TensorFlow backend.\n"
     ]
    }
   ],
   "source": [
    "import collections\n",
    "\n",
    "import helper\n",
    "import numpy as np\n",
    "import project_tests as tests\n",
    "\n",
    "from keras.preprocessing.text import Tokenizer\n",
    "from keras.preprocessing.sequence import pad_sequences\n",
    "from keras.models import Model\n",
    "from keras.layers import GRU, Input, Dense, TimeDistributed, Activation, RepeatVector, Bidirectional\n",
    "from keras.layers.embeddings import Embedding\n",
    "from keras.optimizers import Adam\n",
    "from keras.losses import sparse_categorical_crossentropy"
   ]
  },
  {
   "cell_type": "markdown",
   "metadata": {},
   "source": [
    "### Verify access to the GPU\n",
    "The following test applies only if you expect to be using a GPU, e.g., while running in a Udacity Workspace or using an AWS instance with GPU support. Run the next cell, and verify that the device_type is \"GPU\".\n",
    "- If the device is not GPU & you are running from a Udacity Workspace, then save your workspace with the icon at the top, then click \"enable\" at the bottom of the workspace.\n",
    "- If the device is not GPU & you are running from an AWS instance, then refer to the cloud computing instructions in the classroom to verify your setup steps."
   ]
  },
  {
   "cell_type": "code",
   "execution_count": 3,
   "metadata": {},
   "outputs": [
    {
     "name": "stdout",
     "output_type": "stream",
     "text": [
      "[name: \"/cpu:0\"\n",
      "device_type: \"CPU\"\n",
      "memory_limit: 268435456\n",
      "locality {\n",
      "}\n",
      "incarnation: 4424602509356172653\n",
      "]\n"
     ]
    }
   ],
   "source": [
    "from tensorflow.python.client import device_lib\n",
    "print(device_lib.list_local_devices())"
   ]
  },
  {
   "cell_type": "markdown",
   "metadata": {},
   "source": [
    "## Dataset\n",
    "We begin by investigating the dataset that will be used to train and evaluate your pipeline.  The most common datasets used for machine translation are from [WMT](http://www.statmt.org/).  However, that will take a long time to train a neural network on.  We'll be using a dataset we created for this project that contains a small vocabulary.  You'll be able to train your model in a reasonable time with this dataset.\n",
    "### Load Data\n",
    "The data is located in `data/small_vocab_en` and `data/small_vocab_fr`. The `small_vocab_en` file contains English sentences with their French translations in the `small_vocab_fr` file. Load the English and French data from these files from running the cell below."
   ]
  },
  {
   "cell_type": "code",
   "execution_count": 4,
   "metadata": {},
   "outputs": [
    {
     "name": "stdout",
     "output_type": "stream",
     "text": [
      "Dataset Loaded\n"
     ]
    }
   ],
   "source": [
    "# Load English data\n",
    "english_sentences = helper.load_data('data/small_vocab_en')\n",
    "# Load French data\n",
    "french_sentences = helper.load_data('data/small_vocab_fr')\n",
    "\n",
    "print('Dataset Loaded')"
   ]
  },
  {
   "cell_type": "code",
   "execution_count": 5,
   "metadata": {},
   "outputs": [
    {
     "name": "stdout",
     "output_type": "stream",
     "text": [
      "137861\n",
      "137861\n"
     ]
    }
   ],
   "source": [
    "print(len(english_sentences))\n",
    "print(len(french_sentences))"
   ]
  },
  {
   "cell_type": "markdown",
   "metadata": {},
   "source": [
    "### Files\n",
    "Each line in `small_vocab_en` contains an English sentence with the respective translation in each line of `small_vocab_fr`.  View the first two lines from each file."
   ]
  },
  {
   "cell_type": "code",
   "execution_count": 6,
   "metadata": {},
   "outputs": [
    {
     "name": "stdout",
     "output_type": "stream",
     "text": [
      "small_vocab_en Line 1:  new jersey is sometimes quiet during autumn , and it is snowy in april .\n",
      "small_vocab_fr Line 1:  new jersey est parfois calme pendant l' automne , et il est neigeux en avril .\n",
      "small_vocab_en Line 2:  the united states is usually chilly during july , and it is usually freezing in november .\n",
      "small_vocab_fr Line 2:  les états-unis est généralement froid en juillet , et il gèle habituellement en novembre .\n"
     ]
    }
   ],
   "source": [
    "for sample_i in range(2):\n",
    "    print('small_vocab_en Line {}:  {}'.format(sample_i + 1, english_sentences[sample_i]))\n",
    "    print('small_vocab_fr Line {}:  {}'.format(sample_i + 1, french_sentences[sample_i]))"
   ]
  },
  {
   "cell_type": "markdown",
   "metadata": {},
   "source": [
    "From looking at the sentences, you can see they have been preprocessed already.  The puncuations have been delimited using spaces. All the text have been converted to lowercase.  This should save you some time, but the text requires more preprocessing.\n",
    "### Vocabulary\n",
    "The complexity of the problem is determined by the complexity of the vocabulary.  A more complex vocabulary is a more complex problem.  Let's look at the complexity of the dataset we'll be working with."
   ]
  },
  {
   "cell_type": "code",
   "execution_count": 7,
   "metadata": {},
   "outputs": [
    {
     "name": "stdout",
     "output_type": "stream",
     "text": [
      "1823250 English words.\n",
      "227 unique English words.\n",
      "10 Most common words in the English dataset:\n",
      "\"is\" \",\" \".\" \"in\" \"it\" \"during\" \"the\" \"but\" \"and\" \"sometimes\"\n",
      "\n",
      "1961295 French words.\n",
      "355 unique French words.\n",
      "10 Most common words in the French dataset:\n",
      "\"est\" \".\" \",\" \"en\" \"il\" \"les\" \"mais\" \"et\" \"la\" \"parfois\"\n"
     ]
    }
   ],
   "source": [
    "english_words_counter = collections.Counter([word for sentence in english_sentences for word in sentence.split()])\n",
    "french_words_counter = collections.Counter([word for sentence in french_sentences for word in sentence.split()])\n",
    "\n",
    "print('{} English words.'.format(len([word for sentence in english_sentences for word in sentence.split()])))\n",
    "print('{} unique English words.'.format(len(english_words_counter)))\n",
    "print('10 Most common words in the English dataset:')\n",
    "print('\"' + '\" \"'.join(list(zip(*english_words_counter.most_common(10)))[0]) + '\"')\n",
    "print()\n",
    "print('{} French words.'.format(len([word for sentence in french_sentences for word in sentence.split()])))\n",
    "print('{} unique French words.'.format(len(french_words_counter)))\n",
    "print('10 Most common words in the French dataset:')\n",
    "print('\"' + '\" \"'.join(list(zip(*french_words_counter.most_common(10)))[0]) + '\"')"
   ]
  },
  {
   "cell_type": "markdown",
   "metadata": {},
   "source": [
    "For comparison, _Alice's Adventures in Wonderland_ contains 2,766 unique words of a total of 15,500 words.\n",
    "## Preprocess\n",
    "For this project, you won't use text data as input to your model. Instead, you'll convert the text into sequences of integers using the following preprocess methods:\n",
    "1. Tokenize the words into ids\n",
    "2. Add padding to make all the sequences the same length.\n",
    "\n",
    "Time to start preprocessing the data...\n",
    "### Tokenize (IMPLEMENTATION)\n",
    "For a neural network to predict on text data, it first has to be turned into data it can understand. Text data like \"dog\" is a sequence of ASCII character encodings.  Since a neural network is a series of multiplication and addition operations, the input data needs to be number(s).\n",
    "\n",
    "We can turn each character into a number or each word into a number.  These are called character and word ids, respectively.  Character ids are used for character level models that generate text predictions for each character.  A word level model uses word ids that generate text predictions for each word.  Word level models tend to learn better, since they are lower in complexity, so we'll use those.\n",
    "\n",
    "Turn each sentence into a sequence of words ids using Keras's [`Tokenizer`](https://keras.io/preprocessing/text/#tokenizer) function. Use this function to tokenize `english_sentences` and `french_sentences` in the cell below.\n",
    "\n",
    "Running the cell will run `tokenize` on sample data and show output for debugging."
   ]
  },
  {
   "cell_type": "code",
   "execution_count": 8,
   "metadata": {},
   "outputs": [
    {
     "name": "stdout",
     "output_type": "stream",
     "text": [
      "{'the': 1, 'quick': 2, 'a': 3, 'brown': 4, 'fox': 5, 'jumps': 6, 'over': 7, 'lazy': 8, 'dog': 9, 'by': 10, 'jove': 11, 'my': 12, 'study': 13, 'of': 14, 'lexicography': 15, 'won': 16, 'prize': 17, 'this': 18, 'is': 19, 'short': 20, 'sentence': 21}\n",
      "Sequence 1 in x\n",
      "  Input:  The quick brown fox jumps over the lazy dog .\n",
      "  Output: [1, 2, 4, 5, 6, 7, 1, 8, 9]\n",
      "Sequence 2 in x\n",
      "  Input:  By Jove , my quick study of lexicography won a prize .\n",
      "  Output: [10, 11, 12, 2, 13, 14, 15, 16, 3, 17]\n",
      "Sequence 3 in x\n",
      "  Input:  This is a short sentence .\n",
      "  Output: [18, 19, 3, 20, 21]\n"
     ]
    }
   ],
   "source": [
    "from keras.preprocessing.text import Tokenizer, one_hot\n",
    "\n",
    "def tokenize(x):\n",
    "    \"\"\"\n",
    "    Tokenize x\n",
    "    :param x: List of sentences/strings to be tokenized\n",
    "    :return: Tuple of (tokenized x data, tokenizer used to tokenize x)\"\"\"\n",
    "    \n",
    "    tokenizer = Tokenizer(num_words=10000)\n",
    "    tokenizer.fit_on_texts(x)\n",
    "    seq = tokenizer.texts_to_sequences(x)\n",
    "       \n",
    "    return seq, tokenizer\n",
    "\n",
    "tests.test_tokenize(tokenize)\n",
    "\n",
    "# Tokenize Example output\n",
    "text_sentences = [\n",
    "    'The quick brown fox jumps over the lazy dog .',\n",
    "    'By Jove , my quick study of lexicography won a prize .',\n",
    "    'This is a short sentence .']\n",
    "text_tokenized, text_tokenizer = tokenize(text_sentences)\n",
    "\n",
    "print(text_tokenizer.word_index)\n",
    "\n",
    "for sample_i, (sent, token_sent) in enumerate(zip(text_sentences, text_tokenized)):\n",
    "    print('Sequence {} in x'.format(sample_i + 1))\n",
    "    print('  Input:  {}'.format(sent))\n",
    "    print('  Output: {}'.format(token_sent))"
   ]
  },
  {
   "cell_type": "code",
   "execution_count": 9,
   "metadata": {},
   "outputs": [
    {
     "name": "stdout",
     "output_type": "stream",
     "text": [
      "Help on method texts_to_sequences in module keras.preprocessing.text:\n",
      "\n",
      "texts_to_sequences(texts) method of keras.preprocessing.text.Tokenizer instance\n",
      "    Transforms each text in texts in a sequence of integers.\n",
      "    \n",
      "    Only top \"num_words\" most frequent words will be taken into account.\n",
      "    Only words known by the tokenizer will be taken into account.\n",
      "    \n",
      "    # Arguments\n",
      "        texts: A list of texts (strings).\n",
      "    \n",
      "    # Returns\n",
      "        A list of sequences.\n",
      "\n"
     ]
    }
   ],
   "source": [
    "help(text_tokenizer.texts_to_sequences)"
   ]
  },
  {
   "cell_type": "markdown",
   "metadata": {},
   "source": [
    "### Padding (IMPLEMENTATION)\n",
    "When batching the sequence of word ids together, each sequence needs to be the same length.  Since sentences are dynamic in length, we can add padding to the end of the sequences to make them the same length.\n",
    "\n",
    "Make sure all the English sequences have the same length and all the French sequences have the same length by adding padding to the **end** of each sequence using Keras's [`pad_sequences`](https://keras.io/preprocessing/sequence/#pad_sequences) function."
   ]
  },
  {
   "cell_type": "code",
   "execution_count": 10,
   "metadata": {},
   "outputs": [
    {
     "name": "stdout",
     "output_type": "stream",
     "text": [
      "3\n",
      "3\n",
      "3\n",
      "Sequence 1 in x\n",
      "  Input:  [1 2 4 5 6 7 1 8 9]\n",
      "  Output: [1 2 4 5 6 7 1 8 9 0]\n",
      "Sequence 2 in x\n",
      "  Input:  [10 11 12  2 13 14 15 16  3 17]\n",
      "  Output: [10 11 12  2 13 14 15 16  3 17]\n",
      "Sequence 3 in x\n",
      "  Input:  [18 19  3 20 21]\n",
      "  Output: [18 19  3 20 21  0  0  0  0  0]\n"
     ]
    }
   ],
   "source": [
    "def pad(x, length=None):\n",
    "    \"\"\"\n",
    "    Pad x\n",
    "    :param x: List of sequences.\n",
    "    :param length: Length to pad the sequence to.  If None, use length of longest sequence in x.\n",
    "    :return: Padded numpy array of sequences\n",
    "    \"\"\"\n",
    "    if not length:\n",
    "        length = max(list(map(lambda v: len(v), x)))\n",
    "        \n",
    "    print(len(x))\n",
    "        \n",
    "    ar = np.zeros((len(x), length), dtype=np.int32)\n",
    "    for idx, seq in enumerate(x):\n",
    "        ar[idx, :len(seq)] = np.array(seq)\n",
    "                     \n",
    "    return ar\n",
    "                     \n",
    "tests.test_pad(pad)\n",
    "\n",
    "# Pad Tokenized output\n",
    "test_pad = pad(text_tokenized)\n",
    "for sample_i, (token_sent, pad_sent) in enumerate(zip(text_tokenized, test_pad)):\n",
    "    print('Sequence {} in x'.format(sample_i + 1))\n",
    "    print('  Input:  {}'.format(np.array(token_sent)))\n",
    "    print('  Output: {}'.format(pad_sent))"
   ]
  },
  {
   "cell_type": "markdown",
   "metadata": {},
   "source": [
    "### Preprocess Pipeline\n",
    "Your focus for this project is to build neural network architecture, so we won't ask you to create a preprocess pipeline.  Instead, we've provided you with the implementation of the `preprocess` function."
   ]
  },
  {
   "cell_type": "code",
   "execution_count": 11,
   "metadata": {},
   "outputs": [
    {
     "name": "stdout",
     "output_type": "stream",
     "text": [
      "137861\n",
      "137861\n",
      "Data Preprocessed\n",
      "Max English sentence length: 15\n",
      "Max French sentence length: 21\n",
      "English vocabulary size: 199\n",
      "French vocabulary size: 344\n"
     ]
    }
   ],
   "source": [
    "def preprocess(x, y):\n",
    "    \"\"\"\n",
    "    Preprocess x and y\n",
    "    :param x: Feature List of sentences\n",
    "    :param y: Label List of sentences\n",
    "    :return: Tuple of (Preprocessed x, Preprocessed y, x tokenizer, y tokenizer)\n",
    "    \"\"\"\n",
    "    preprocess_x, x_tk = tokenize(x)\n",
    "    preprocess_y, y_tk = tokenize(y)\n",
    "\n",
    "    preprocess_x = pad(preprocess_x)\n",
    "    preprocess_y = pad(preprocess_y)\n",
    "\n",
    "    # Keras's sparse_categorical_crossentropy function requires the labels to be in 3 dimensions\n",
    "    preprocess_y = preprocess_y.reshape(*preprocess_y.shape, 1)\n",
    "\n",
    "    return preprocess_x, preprocess_y, x_tk, y_tk\n",
    "\n",
    "preproc_english_sentences, preproc_french_sentences, english_tokenizer, french_tokenizer =\\\n",
    "    preprocess(english_sentences, french_sentences)\n",
    "    \n",
    "max_english_sequence_length = preproc_english_sentences.shape[1]\n",
    "max_french_sequence_length = preproc_french_sentences.shape[1]\n",
    "english_vocab_size = len(english_tokenizer.word_index)\n",
    "french_vocab_size = len(french_tokenizer.word_index)\n",
    "\n",
    "print('Data Preprocessed')\n",
    "print(\"Max English sentence length:\", max_english_sequence_length)\n",
    "print(\"Max French sentence length:\", max_french_sequence_length)\n",
    "print(\"English vocabulary size:\", english_vocab_size)\n",
    "print(\"French vocabulary size:\", french_vocab_size)"
   ]
  },
  {
   "cell_type": "markdown",
   "metadata": {},
   "source": [
    "## Models\n",
    "In this section, you will experiment with various neural network architectures.\n",
    "You will begin by training four relatively simple architectures.\n",
    "- Model 1 is a simple RNN\n",
    "- Model 2 is a RNN with Embedding\n",
    "- Model 3 is a Bidirectional RNN\n",
    "- Model 4 is an optional Encoder-Decoder RNN\n",
    "\n",
    "After experimenting with the four simple architectures, you will construct a deeper architecture that is designed to outperform all four models.\n",
    "### Ids Back to Text\n",
    "The neural network will be translating the input to words ids, which isn't the final form we want.  We want the French translation.  The function `logits_to_text` will bridge the gab between the logits from the neural network to the French translation.  You'll be using this function to better understand the output of the neural network."
   ]
  },
  {
   "cell_type": "code",
   "execution_count": 12,
   "metadata": {},
   "outputs": [
    {
     "name": "stdout",
     "output_type": "stream",
     "text": [
      "`logits_to_text` function loaded.\n"
     ]
    }
   ],
   "source": [
    "def logits_to_text(logits, tokenizer):\n",
    "    \"\"\"\n",
    "    Turn logits from a neural network into text using the tokenizer\n",
    "    :param logits: Logits from a neural network\n",
    "    :param tokenizer: Keras Tokenizer fit on the labels\n",
    "    :return: String that represents the text of the logits\n",
    "    \"\"\"\n",
    "    index_to_words = {id: word for word, id in tokenizer.word_index.items()}\n",
    "    index_to_words[0] = '<PAD>'\n",
    "\n",
    "    return ' '.join([index_to_words[prediction] for prediction in np.argmax(logits, 1)])\n",
    "\n",
    "print('`logits_to_text` function loaded.')"
   ]
  },
  {
   "cell_type": "code",
   "execution_count": 13,
   "metadata": {
    "collapsed": true
   },
   "outputs": [],
   "source": [
    "from keras.layers import RNN, SimpleRNNCell, Dropout\n",
    "from keras import backend as K\n",
    "from keras.models import Sequential"
   ]
  },
  {
   "cell_type": "markdown",
   "metadata": {},
   "source": [
    "### Model 1: RNN (IMPLEMENTATION)\n",
    "![RNN](images/rnn.png)\n",
    "A basic RNN model is a good baseline for sequence data.  In this model, you'll build a RNN that translates English to French."
   ]
  },
  {
   "cell_type": "code",
   "execution_count": 14,
   "metadata": {
    "collapsed": true
   },
   "outputs": [],
   "source": [
    "def one_hot(inputs, vocab_size):\n",
    "    \"\"\"One hot encoding the sequence of word indices\"\"\"\n",
    "    shape = (inputs.shape[0], inputs.shape[1], vocab_size + 1)\n",
    "    encoded_inputs = np.zeros(shape, dtype=np.int32)\n",
    "    for doc_idx in range(inputs.shape[0]):\n",
    "        for word_idx in range(inputs.shape[1]):\n",
    "            word = inputs[doc_idx, word_idx]\n",
    "            encoded_inputs[doc_idx, word_idx, word] = 1\n",
    "    return encoded_inputs"
   ]
  },
  {
   "cell_type": "code",
   "execution_count": 220,
   "metadata": {},
   "outputs": [
    {
     "name": "stdout",
     "output_type": "stream",
     "text": [
      "building the model\n",
      "_________________________________________________________________\n",
      "Layer (type)                 Output Shape              Param #   \n",
      "=================================================================\n",
      "rnn_198 (RNN)                (None, 21, 57)            14706     \n",
      "_________________________________________________________________\n",
      "dense_112 (Dense)            (None, 21, 345)           20010     \n",
      "=================================================================\n",
      "Total params: 34,716\n",
      "Trainable params: 34,716\n",
      "Non-trainable params: 0\n",
      "_________________________________________________________________\n",
      "None\n",
      "Train on 110288 samples, validate on 27573 samples\n",
      "Epoch 1/10\n",
      "110288/110288 [==============================] - 205s 2ms/step - loss: 2.2182 - acc: 0.5584 - val_loss: 1.1026 - val_acc: 0.7239\n",
      "Epoch 2/10\n",
      "110288/110288 [==============================] - 189s 2ms/step - loss: 1.0240 - acc: 0.7277 - val_loss: 0.7127 - val_acc: 0.8005\n",
      "Epoch 3/10\n",
      "110288/110288 [==============================] - 191s 2ms/step - loss: 0.8542 - acc: 0.7611 - val_loss: 0.6007 - val_acc: 0.8273\n",
      "Epoch 4/10\n",
      "110288/110288 [==============================] - 192s 2ms/step - loss: 0.7749 - acc: 0.7776 - val_loss: 0.5498 - val_acc: 0.8349\n",
      "Epoch 5/10\n",
      "110288/110288 [==============================] - 182s 2ms/step - loss: 0.7297 - acc: 0.7877 - val_loss: 0.5237 - val_acc: 0.8406\n",
      "Epoch 6/10\n",
      "110288/110288 [==============================] - 185s 2ms/step - loss: 0.7021 - acc: 0.7933 - val_loss: 0.4839 - val_acc: 0.8512\n",
      "Epoch 7/10\n",
      "110288/110288 [==============================] - 185s 2ms/step - loss: 0.6824 - acc: 0.7979 - val_loss: 0.4669 - val_acc: 0.8560\n",
      "Epoch 8/10\n",
      "110288/110288 [==============================] - 184s 2ms/step - loss: 0.6684 - acc: 0.8011 - val_loss: 0.4534 - val_acc: 0.8612\n",
      "Epoch 9/10\n",
      "110288/110288 [==============================] - 190s 2ms/step - loss: 0.6575 - acc: 0.8036 - val_loss: 0.4366 - val_acc: 0.8632\n",
      "Epoch 10/10\n",
      "110288/110288 [==============================] - 183s 2ms/step - loss: 0.6491 - acc: 0.8055 - val_loss: 0.4398 - val_acc: 0.8617\n",
      "new jersey est parfois calme en l' et il est neigeux neigeux avril <PAD> <PAD> <PAD> <PAD> <PAD> <PAD> <PAD> <PAD>\n"
     ]
    }
   ],
   "source": [
    "def simple_model(input_shape, output_sequence_length, english_vocab_size, french_vocab_size):\n",
    "    \"\"\"\n",
    "    Build and train a basic RNN on x and y\n",
    "    :param input_shape: Tuple of input shape\n",
    "    :param output_sequence_length: Length of output sequence\n",
    "    :param english_vocab_size: Number of unique English words in the dataset\n",
    "    :param french_vocab_size: Number of unique French words in the dataset\n",
    "    :return: Keras model built, but not trained\n",
    "    \"\"\"\n",
    "    # TODO: Build the layers\n",
    "    model = Sequential()\n",
    "    cell = SimpleRNNCell(int(french_vocab_size/6), dropout=0.1, recurrent_dropout=0.1)\n",
    "    model.add(RNN(cell, input_shape=input_shape[1:], return_sequences=True))\n",
    "    model.add(Dense(french_vocab_size, activation='softmax'))\n",
    "    model.compile(loss=sparse_categorical_crossentropy,\n",
    "                  optimizer=Adam(0.01),\n",
    "                  metrics=['accuracy'])\n",
    "    return model\n",
    "\n",
    "#print('before tests')\n",
    "tests.test_simple_model(simple_model)\n",
    "#print('passed the tests')\n",
    "\n",
    "# Reshaping the input to work with a basic RNN\n",
    "tmp_x = pad(preproc_english_sentences, max_french_sequence_length)\n",
    "tmp_x = tmp_x.reshape((-1, preproc_french_sentences.shape[-2], 1))\n",
    "tmp_x_oh = one_hot(tmp_x, english_vocab_size)\n",
    "\n",
    "#tmp_x_oh = one_hot(tmp_x, english_vocab_size)\n",
    "print('building the model')\n",
    "\n",
    "# Train the neural network\n",
    "simple_rnn_model = simple_model(tmp_x_oh.shape,\n",
    "                                max_french_sequence_length,\n",
    "                                english_vocab_size,\n",
    "                                french_vocab_size + 1)\n",
    "\n",
    "print(simple_rnn_model.summary())\n",
    "\n",
    "simple_rnn_model.fit(tmp_x_oh, preproc_french_sentences, batch_size=1024, epochs=10, validation_split=0.2)\n",
    "\n",
    "# Print prediction(s)\n",
    "print(logits_to_text(simple_rnn_model.predict(tmp_x_oh[:1])[0], french_tokenizer))"
   ]
  },
  {
   "cell_type": "markdown",
   "metadata": {},
   "source": [
    "### Model 2: Embedding (IMPLEMENTATION)\n",
    "![RNN](images/embedding.png)\n",
    "You've turned the words into ids, but there's a better representation of a word.  This is called word embeddings.  An embedding is a vector representation of the word that is close to similar words in n-dimensional space, where the n represents the size of the embedding vectors.\n",
    "\n",
    "In this model, you'll create a RNN model using embedding."
   ]
  },
  {
   "cell_type": "code",
   "execution_count": 221,
   "metadata": {},
   "outputs": [
    {
     "name": "stdout",
     "output_type": "stream",
     "text": [
      "_________________________________________________________________\n",
      "Layer (type)                 Output Shape              Param #   \n",
      "=================================================================\n",
      "embedding_70 (Embedding)     (None, 21, 40)            8000      \n",
      "_________________________________________________________________\n",
      "rnn_200 (RNN)                (None, 21, 57)            5586      \n",
      "_________________________________________________________________\n",
      "dense_114 (Dense)            (None, 21, 345)           20010     \n",
      "=================================================================\n",
      "Total params: 33,596\n",
      "Trainable params: 33,596\n",
      "Non-trainable params: 0\n",
      "_________________________________________________________________\n",
      "None\n",
      "Train on 110288 samples, validate on 27573 samples\n",
      "Epoch 1/10\n",
      "110288/110288 [==============================] - 209s 2ms/step - loss: 2.7732 - acc: 0.4801 - val_loss: 1.5778 - val_acc: 0.6356\n",
      "Epoch 2/10\n",
      "110288/110288 [==============================] - 186s 2ms/step - loss: 1.2215 - acc: 0.6941 - val_loss: 0.8866 - val_acc: 0.7639\n",
      "Epoch 3/10\n",
      "110288/110288 [==============================] - 186s 2ms/step - loss: 0.8603 - acc: 0.7670 - val_loss: 0.6980 - val_acc: 0.8097\n",
      "Epoch 4/10\n",
      "110288/110288 [==============================] - 193s 2ms/step - loss: 0.7406 - acc: 0.7921 - val_loss: 0.6142 - val_acc: 0.8249\n",
      "Epoch 5/10\n",
      "110288/110288 [==============================] - 194s 2ms/step - loss: 0.6746 - acc: 0.8057 - val_loss: 0.5579 - val_acc: 0.8392\n",
      "Epoch 6/10\n",
      "110288/110288 [==============================] - 190s 2ms/step - loss: 0.6294 - acc: 0.8158 - val_loss: 0.5183 - val_acc: 0.8504\n",
      "Epoch 7/10\n",
      "110288/110288 [==============================] - 198s 2ms/step - loss: 0.6000 - acc: 0.8230 - val_loss: 0.4881 - val_acc: 0.8584\n",
      "Epoch 8/10\n",
      "110288/110288 [==============================] - 192s 2ms/step - loss: 0.5749 - acc: 0.8294 - val_loss: 0.4666 - val_acc: 0.8641\n",
      "Epoch 9/10\n",
      "110288/110288 [==============================] - 185s 2ms/step - loss: 0.5594 - acc: 0.8329 - val_loss: 0.4502 - val_acc: 0.8670\n",
      "Epoch 10/10\n",
      "110288/110288 [==============================] - 190s 2ms/step - loss: 0.5456 - acc: 0.8364 - val_loss: 0.4396 - val_acc: 0.8696\n",
      "new jersey est parfois calme en cours et il est neigeux en avril <PAD> <PAD> <PAD> <PAD> <PAD> <PAD> <PAD> <PAD>\n"
     ]
    }
   ],
   "source": [
    "def embed_model(input_shape, output_sequence_length, english_vocab_size, french_vocab_size):\n",
    "    \"\"\"\n",
    "    Build and train a RNN model using word embedding on x and y\n",
    "    :param input_shape: Tuple of input shape\n",
    "    :param output_sequence_length: Length of output sequence\n",
    "    :param english_vocab_size: Number of unique English words in the dataset\n",
    "    :param french_vocab_size: Number of unique French words in the dataset\n",
    "    :return: Keras model built, but not trained\n",
    "    \"\"\"\n",
    "    # TODO: Implement\n",
    "    model = Sequential()\n",
    "    model.add(Embedding(english_vocab_size, int(english_vocab_size/5), input_length=input_shape[1]))\n",
    "    cell = SimpleRNNCell(int(french_vocab_size/6), dropout=0.1, recurrent_dropout=0.1)\n",
    "    model.add(RNN(cell, return_sequences=True))\n",
    "    model.add(Dense(french_vocab_size, activation='softmax'))\n",
    "    #model.add(Dropout(0.2))\n",
    "    #model.add(Activation('sigmoid'))\n",
    "    model.compile(loss=sparse_categorical_crossentropy,\n",
    "                  optimizer=Adam(0.005),\n",
    "                  metrics=['accuracy'])\n",
    "    return model\n",
    "\n",
    "tests.test_embed_model(embed_model)\n",
    "\n",
    "\n",
    "# TODO: Reshape the input\n",
    "tmp_x = pad(preproc_english_sentences, max_french_sequence_length)\n",
    "\n",
    "\n",
    "# TODO: Train the neural network\n",
    "embed_rnn_model = embed_model(tmp_x.shape,\n",
    "                              max_french_sequence_length,\n",
    "                              english_vocab_size + 1,\n",
    "                              french_vocab_size + 1)\n",
    "\n",
    "print(embed_rnn_model.summary())\n",
    "\n",
    "embed_rnn_model.fit(tmp_x, preproc_french_sentences, batch_size=1024, epochs=10, validation_split=0.2)\n",
    "\n",
    "# Print prediction(s)\n",
    "print(logits_to_text(embed_rnn_model.predict(tmp_x[:1])[0], french_tokenizer))"
   ]
  },
  {
   "cell_type": "markdown",
   "metadata": {},
   "source": [
    "### Model 3: Bidirectional RNNs (IMPLEMENTATION)\n",
    "![RNN](images/bidirectional.png)\n",
    "One restriction of a RNN is that it can't see the future input, only the past.  This is where bidirectional recurrent neural networks come in.  They are able to see the future data."
   ]
  },
  {
   "cell_type": "code",
   "execution_count": 225,
   "metadata": {},
   "outputs": [
    {
     "name": "stdout",
     "output_type": "stream",
     "text": [
      "building the model\n",
      "_________________________________________________________________\n",
      "Layer (type)                 Output Shape              Param #   \n",
      "=================================================================\n",
      "bidirectional_9 (Bidirection (None, 21, 114)           29412     \n",
      "_________________________________________________________________\n",
      "dense_120 (Dense)            (None, 21, 345)           39675     \n",
      "=================================================================\n",
      "Total params: 69,087\n",
      "Trainable params: 69,087\n",
      "Non-trainable params: 0\n",
      "_________________________________________________________________\n",
      "None\n",
      "Train on 110288 samples, validate on 27573 samples\n",
      "Epoch 1/10\n",
      "110288/110288 [==============================] - 245s 2ms/step - loss: 2.2224 - acc: 0.5530 - val_loss: 1.1077 - val_acc: 0.7267\n",
      "Epoch 2/10\n",
      "110288/110288 [==============================] - 240s 2ms/step - loss: 0.9872 - acc: 0.7432 - val_loss: 0.6987 - val_acc: 0.8081\n",
      "Epoch 3/10\n",
      "110288/110288 [==============================] - 248s 2ms/step - loss: 0.7710 - acc: 0.7858 - val_loss: 0.5548 - val_acc: 0.8403\n",
      "Epoch 4/10\n",
      "110288/110288 [==============================] - 247s 2ms/step - loss: 0.6751 - acc: 0.8061 - val_loss: 0.4810 - val_acc: 0.8581\n",
      "Epoch 5/10\n",
      "110288/110288 [==============================] - 215s 2ms/step - loss: 0.6211 - acc: 0.8189 - val_loss: 0.4333 - val_acc: 0.8704\n",
      "Epoch 6/10\n",
      "110288/110288 [==============================] - 255s 2ms/step - loss: 0.5857 - acc: 0.8270 - val_loss: 0.4044 - val_acc: 0.8776\n",
      "Epoch 7/10\n",
      "110288/110288 [==============================] - 232s 2ms/step - loss: 0.5605 - acc: 0.8333 - val_loss: 0.3799 - val_acc: 0.8847\n",
      "Epoch 8/10\n",
      "110288/110288 [==============================] - 215s 2ms/step - loss: 0.5398 - acc: 0.8384 - val_loss: 0.3613 - val_acc: 0.8904\n",
      "Epoch 9/10\n",
      "110288/110288 [==============================] - 218s 2ms/step - loss: 0.5261 - acc: 0.8416 - val_loss: 0.3485 - val_acc: 0.8928\n",
      "Epoch 10/10\n",
      "110288/110288 [==============================] - 213s 2ms/step - loss: 0.5140 - acc: 0.8449 - val_loss: 0.3387 - val_acc: 0.8951\n",
      "new jersey est parfois calme pendant l' de il est neigeux en en <PAD> <PAD> <PAD> <PAD> <PAD> <PAD> <PAD> <PAD>\n"
     ]
    }
   ],
   "source": [
    "def bd_model(input_shape, output_sequence_length, english_vocab_size, french_vocab_size):\n",
    "    \"\"\"\n",
    "    Build and train a bidirectional RNN model on x and y\n",
    "    :param input_shape: Tuple of input shape\n",
    "    :param output_sequence_length: Length of output sequence\n",
    "    :param english_vocab_size: Number of unique English words in the dataset\n",
    "    :param french_vocab_size: Number of unique French words in the dataset\n",
    "    :return: Keras model built, but not trained\n",
    "    \"\"\"\n",
    "    # TODO: Implement\n",
    "    model = Sequential()\n",
    "    #cell = MyRNNCell(english_vocab_size, french_vocab_size)\n",
    "    cell = SimpleRNNCell(int(french_vocab_size/6), dropout=0.1, recurrent_dropout=0.1)\n",
    "    layer = RNN(cell, input_shape=input_shape[1:], return_sequences=True)\n",
    "    model.add(Bidirectional(layer, input_shape=input_shape[1:], merge_mode='concat'))\n",
    "        \n",
    "    #model.add(Dropout(0.2))\n",
    "    model.add(Dense(french_vocab_size, activation='softmax'))\n",
    "    model.compile(loss=sparse_categorical_crossentropy,\n",
    "                  optimizer=Adam(0.005),\n",
    "                  metrics=['accuracy'])\n",
    "    return model\n",
    "\n",
    "tests.test_bd_model(bd_model)\n",
    "\n",
    "\n",
    "# TODO: Train and Print prediction(s)\n",
    "tmp_x = pad(preproc_english_sentences, max_french_sequence_length)\n",
    "tmp_x = tmp_x.reshape((-1, preproc_french_sentences.shape[-2], 1))\n",
    "tmp_x_oh = one_hot(tmp_x, english_vocab_size)\n",
    "\n",
    "#tmp_x_oh = one_hot(tmp_x, english_vocab_size)\n",
    "print('building the model')\n",
    "\n",
    "# Train the neural network\n",
    "bd_rnn_model = bd_model(tmp_x_oh.shape,\n",
    "                            max_french_sequence_length,\n",
    "                            english_vocab_size,\n",
    "                            french_vocab_size + 1)\n",
    "print(bd_rnn_model.summary())\n",
    "\n",
    "bd_rnn_model.fit(tmp_x_oh, preproc_french_sentences, batch_size=1024, epochs=10, validation_split=0.2)\n",
    "\n",
    "# Print prediction(s)\n",
    "print(logits_to_text(bd_rnn_model.predict(tmp_x_oh[:1])[0], french_tokenizer))"
   ]
  },
  {
   "cell_type": "markdown",
   "metadata": {},
   "source": [
    "### Model 4: One shot encoder-Decoder\n",
    "\n",
    "Time to look at encoder-decoder models.  This model is made up of an encoder and decoder. The encoder creates a matrix representation of the sentence.  The decoder takes this matrix as input and predicts the translation as output.\n",
    "\n",
    "Create an encoder-decoder model in the cell below."
   ]
  },
  {
   "cell_type": "code",
   "execution_count": 16,
   "metadata": {},
   "outputs": [
    {
     "name": "stdout",
     "output_type": "stream",
     "text": [
      "about to start tests\n",
      "input shape passed\n",
      "output shape passed\n",
      "loss function passed\n",
      "cross entropy passed\n",
      "137861\n"
     ]
    },
    {
     "ename": "AttributeError",
     "evalue": "'numpy.ndarray' object has no attribute 'lower'",
     "output_type": "error",
     "traceback": [
      "\u001b[0;31m---------------------------------------------------------------------------\u001b[0m",
      "\u001b[0;31mAttributeError\u001b[0m                            Traceback (most recent call last)",
      "\u001b[0;32m<ipython-input-16-d63e7e69efff>\u001b[0m in \u001b[0;36m<module>\u001b[0;34m()\u001b[0m\n\u001b[1;32m     36\u001b[0m \u001b[0mtmp_x\u001b[0m \u001b[0;34m=\u001b[0m \u001b[0mpad\u001b[0m\u001b[0;34m(\u001b[0m\u001b[0mpreproc_english_sentences\u001b[0m\u001b[0;34m,\u001b[0m \u001b[0mmax_french_sequence_length\u001b[0m\u001b[0;34m)\u001b[0m\u001b[0;34m\u001b[0m\u001b[0m\n\u001b[1;32m     37\u001b[0m \u001b[0mtmp_x\u001b[0m \u001b[0;34m=\u001b[0m \u001b[0mtmp_x\u001b[0m\u001b[0;34m.\u001b[0m\u001b[0mreshape\u001b[0m\u001b[0;34m(\u001b[0m\u001b[0;34m(\u001b[0m\u001b[0;34m-\u001b[0m\u001b[0;36m1\u001b[0m\u001b[0;34m,\u001b[0m \u001b[0mpreproc_french_sentences\u001b[0m\u001b[0;34m.\u001b[0m\u001b[0mshape\u001b[0m\u001b[0;34m[\u001b[0m\u001b[0;34m-\u001b[0m\u001b[0;36m2\u001b[0m\u001b[0;34m]\u001b[0m\u001b[0;34m,\u001b[0m \u001b[0;36m1\u001b[0m\u001b[0;34m)\u001b[0m\u001b[0;34m)\u001b[0m\u001b[0;34m\u001b[0m\u001b[0m\n\u001b[0;32m---> 38\u001b[0;31m \u001b[0mtmp_x_oh\u001b[0m \u001b[0;34m=\u001b[0m \u001b[0mone_hot\u001b[0m\u001b[0;34m(\u001b[0m\u001b[0mtmp_x\u001b[0m\u001b[0;34m,\u001b[0m \u001b[0menglish_vocab_size\u001b[0m\u001b[0;34m)\u001b[0m\u001b[0;34m\u001b[0m\u001b[0m\n\u001b[0m\u001b[1;32m     39\u001b[0m \u001b[0;34m\u001b[0m\u001b[0m\n\u001b[1;32m     40\u001b[0m \u001b[0;31m#tmp_x_oh = one_hot(tmp_x, english_vocab_size)\u001b[0m\u001b[0;34m\u001b[0m\u001b[0;34m\u001b[0m\u001b[0m\n",
      "\u001b[0;32m~/anaconda3/envs/nlpp/lib/python3.6/site-packages/keras/preprocessing/text.py\u001b[0m in \u001b[0;36mone_hot\u001b[0;34m(text, n, filters, lower, split)\u001b[0m\n\u001b[1;32m     72\u001b[0m                          \u001b[0mfilters\u001b[0m\u001b[0;34m=\u001b[0m\u001b[0mfilters\u001b[0m\u001b[0;34m,\u001b[0m\u001b[0;34m\u001b[0m\u001b[0m\n\u001b[1;32m     73\u001b[0m                          \u001b[0mlower\u001b[0m\u001b[0;34m=\u001b[0m\u001b[0mlower\u001b[0m\u001b[0;34m,\u001b[0m\u001b[0;34m\u001b[0m\u001b[0m\n\u001b[0;32m---> 74\u001b[0;31m                          split=split)\n\u001b[0m\u001b[1;32m     75\u001b[0m \u001b[0;34m\u001b[0m\u001b[0m\n\u001b[1;32m     76\u001b[0m \u001b[0;34m\u001b[0m\u001b[0m\n",
      "\u001b[0;32m~/anaconda3/envs/nlpp/lib/python3.6/site-packages/keras/preprocessing/text.py\u001b[0m in \u001b[0;36mhashing_trick\u001b[0;34m(text, n, hash_function, filters, lower, split)\u001b[0m\n\u001b[1;32m    113\u001b[0m                                 \u001b[0mfilters\u001b[0m\u001b[0;34m=\u001b[0m\u001b[0mfilters\u001b[0m\u001b[0;34m,\u001b[0m\u001b[0;34m\u001b[0m\u001b[0m\n\u001b[1;32m    114\u001b[0m                                 \u001b[0mlower\u001b[0m\u001b[0;34m=\u001b[0m\u001b[0mlower\u001b[0m\u001b[0;34m,\u001b[0m\u001b[0;34m\u001b[0m\u001b[0m\n\u001b[0;32m--> 115\u001b[0;31m                                 split=split)\n\u001b[0m\u001b[1;32m    116\u001b[0m     \u001b[0;32mreturn\u001b[0m \u001b[0;34m[\u001b[0m\u001b[0;34m(\u001b[0m\u001b[0mhash_function\u001b[0m\u001b[0;34m(\u001b[0m\u001b[0mw\u001b[0m\u001b[0;34m)\u001b[0m \u001b[0;34m%\u001b[0m \u001b[0;34m(\u001b[0m\u001b[0mn\u001b[0m \u001b[0;34m-\u001b[0m \u001b[0;36m1\u001b[0m\u001b[0;34m)\u001b[0m \u001b[0;34m+\u001b[0m \u001b[0;36m1\u001b[0m\u001b[0;34m)\u001b[0m \u001b[0;32mfor\u001b[0m \u001b[0mw\u001b[0m \u001b[0;32min\u001b[0m \u001b[0mseq\u001b[0m\u001b[0;34m]\u001b[0m\u001b[0;34m\u001b[0m\u001b[0m\n\u001b[1;32m    117\u001b[0m \u001b[0;34m\u001b[0m\u001b[0m\n",
      "\u001b[0;32m~/anaconda3/envs/nlpp/lib/python3.6/site-packages/keras/preprocessing/text.py\u001b[0m in \u001b[0;36mtext_to_word_sequence\u001b[0;34m(text, filters, lower, split)\u001b[0m\n\u001b[1;32m     37\u001b[0m     \"\"\"\n\u001b[1;32m     38\u001b[0m     \u001b[0;32mif\u001b[0m \u001b[0mlower\u001b[0m\u001b[0;34m:\u001b[0m\u001b[0;34m\u001b[0m\u001b[0m\n\u001b[0;32m---> 39\u001b[0;31m         \u001b[0mtext\u001b[0m \u001b[0;34m=\u001b[0m \u001b[0mtext\u001b[0m\u001b[0;34m.\u001b[0m\u001b[0mlower\u001b[0m\u001b[0;34m(\u001b[0m\u001b[0;34m)\u001b[0m\u001b[0;34m\u001b[0m\u001b[0m\n\u001b[0m\u001b[1;32m     40\u001b[0m \u001b[0;34m\u001b[0m\u001b[0m\n\u001b[1;32m     41\u001b[0m     \u001b[0;32mif\u001b[0m \u001b[0msys\u001b[0m\u001b[0;34m.\u001b[0m\u001b[0mversion_info\u001b[0m \u001b[0;34m<\u001b[0m \u001b[0;34m(\u001b[0m\u001b[0;36m3\u001b[0m\u001b[0;34m,\u001b[0m\u001b[0;34m)\u001b[0m \u001b[0;32mand\u001b[0m \u001b[0misinstance\u001b[0m\u001b[0;34m(\u001b[0m\u001b[0mtext\u001b[0m\u001b[0;34m,\u001b[0m \u001b[0municode\u001b[0m\u001b[0;34m)\u001b[0m\u001b[0;34m:\u001b[0m\u001b[0;34m\u001b[0m\u001b[0m\n",
      "\u001b[0;31mAttributeError\u001b[0m: 'numpy.ndarray' object has no attribute 'lower'"
     ]
    }
   ],
   "source": [
    "def encdec_model(input_shape, output_sequence_length, english_vocab_size, french_vocab_size):\n",
    "    \"\"\"\n",
    "    Build and train an encoder-decoder model on x and y\n",
    "    :param input_shape: Tuple of input shape\n",
    "    :param output_sequence_length: Length of output sequence\n",
    "    :param english_vocab_size: Number of unique English words in the dataset\n",
    "    :param french_vocab_size: Number of unique French words in the dataset\n",
    "    :return: Keras model built, but not trained\n",
    "    \"\"\"\n",
    "    # one shot encoder/decoder\n",
    "    \n",
    "    # 1) encoder\n",
    "    model = Sequential()\n",
    "    cell = SimpleRNNCell(int(french_vocab_size/6), dropout=0.1, recurrent_dropout=0.1)\n",
    "    model.add(RNN(cell, input_shape=input_shape[1:], return_sequences=False))\n",
    "    \n",
    "    model.add(RepeatVector(output_sequence_length))\n",
    "    \n",
    "    #decoder\n",
    "    cell = SimpleRNNCell(int(french_vocab_size/6), dropout=0.1, recurrent_dropout=0.1)\n",
    "    model.add(RNN(cell, return_sequences=True))\n",
    "    \n",
    "    model.add(Dense(french_vocab_size, activation='softmax'))\n",
    "    model.compile(loss=sparse_categorical_crossentropy,\n",
    "                  optimizer=Adam(0.05),\n",
    "                  metrics=['accuracy'])\n",
    "    return model\n",
    "\n",
    "\n",
    "tests.test_encdec_model(encdec_model)\n",
    "\n",
    "\n",
    "# OPTIONAL: Train and Print prediction(s)\n",
    "\n",
    "# Reshaping the input to work with a basic RNN\n",
    "tmp_x = pad(preproc_english_sentences, max_french_sequence_length)\n",
    "tmp_x = tmp_x.reshape((-1, preproc_french_sentences.shape[-2], 1))\n",
    "tmp_x_oh = one_hot(tmp_x, english_vocab_size)\n",
    "\n",
    "#tmp_x_oh = one_hot(tmp_x, english_vocab_size)\n",
    "print('building the model')\n",
    "\n",
    "# Train the neural network\n",
    "encdec_rnn_model = encdec_model(tmp_x_oh.shape,\n",
    "                                max_french_sequence_length,\n",
    "                                english_vocab_size,\n",
    "                                french_vocab_size + 1)\n",
    "\n",
    "print(encdec_rnn_model.summary())\n",
    "\n",
    "encdec_rnn_model.fit(tmp_x_oh, preproc_french_sentences, batch_size=1024, epochs=10, validation_split=0.2)"
   ]
  },
  {
   "cell_type": "markdown",
   "metadata": {},
   "source": [
    "### Model 5: Two shot Encoder-Decoder \n",
    "\n",
    "This method uses encoder and decoder that are combined into one for the training purposes and used\n",
    "separately for the inference.\n",
    "\n",
    "The difference here is that the decoder takes training input of French phrases as well as of the \"thought vector\" produced by the encoder. The hope is that the output will be closer to natural French."
   ]
  },
  {
   "cell_type": "code",
   "execution_count": null,
   "metadata": {},
   "outputs": [
    {
     "name": "stderr",
     "output_type": "stream",
     "text": [
      "100%|██████████| 137861/137861 [02:05<00:00, 1100.05it/s]\n"
     ]
    },
    {
     "name": "stdout",
     "output_type": "stream",
     "text": [
      "137861\n"
     ]
    }
   ],
   "source": [
    "from keras.layers import Concatenate\n",
    "\n",
    "def encdec_model2(input_shape, output_sequence_length, english_vocab_size, french_vocab_size):\n",
    "    \"\"\"\n",
    "    Build and train an encoder-decoder model on x and y\n",
    "    :param input_shape: Tuple of input shape\n",
    "    :param output_sequence_length: Length of output sequence\n",
    "    :param english_vocab_size: Number of unique English words in the dataset\n",
    "    :param french_vocab_size: Number of unique French words in the dataset\n",
    "    :return: Keras model built, but not trained\n",
    "    \"\"\"\n",
    "    # one shot encoder/decoder\n",
    "    \n",
    "    # 1) encoder\n",
    "    encoder_model = Sequential()\n",
    "    cell = SimpleRNNCell(int(french_vocab_size/6), dropout=0.1, recurrent_dropout=0.1)\n",
    "    encoder_model.add(RNN(cell, input_shape=input_shape[1:], return_sequences=False))\n",
    "    \n",
    "    encoder_model.add(RepeatVector(output_sequence_length))\n",
    "    \n",
    "    #decoder\n",
    "    decoder_model = Sequential()\n",
    "    \n",
    "    french_embed_size = int(french_vocab_size/6)\n",
    "    \n",
    "    decoder_model.add(Concatenate())\n",
    "    \n",
    "    #double the size, b/c we take merged input of \"encoded vector\" + \"french seed\"\n",
    "    decoder_cell = SimpleRNNCell(2*french_embed_size, dropout=0.1, recurrent_dropout=0.1)\n",
    "    decoder_model.add(RNN(decoder_cell, return_sequences=True))\n",
    "    \n",
    "    decoder_model.add(Dense(french_vocab_size, activation='softmax'))\n",
    "    model.compile(loss=sparse_categorical_crossentropy,\n",
    "                  optimizer=Adam(0.05),\n",
    "                  metrics=['accuracy'])\n",
    "    \n",
    "    \n",
    "    \n",
    "    return None, None, None\n",
    "\n",
    "\n",
    "# OPTIONAL: Train and Print prediction(s)\n",
    "\n",
    "def pad_french(x, length):\n",
    "    \"\"\"\n",
    "    A version of pad for french sentences.\n",
    "    \n",
    "    :param x: List of sequences.\n",
    "    :param length: Length to pad the sequence to.  If None, use length of longest sequence in x.\n",
    "    :return: Padded numpy array of sequences\n",
    "    \"\"\"\n",
    "    num_sent = len(x)\n",
    "    ar = np.zeros((num_sent, length, 1), dtype=np.int32)\n",
    "    for idx in range(num_sent):\n",
    "        sent = x[idx]\n",
    "        ar[idx, :len(sent)] = np.array(sent)\n",
    "                     \n",
    "    return ar\n",
    "\n",
    "\n",
    "# reshape french phrases\n",
    "fr_x = pad_french(preproc_french_sentences, max_french_sequence_length)\n",
    "fr_x_oh = one_hot(fr_x, french_vocab_size)\n",
    "\n",
    "num_shifted_sent = len(fr_x)*max_french_sequence_length\n",
    "shape = (num_shifted_sent, max_french_sequence_length, french_vocab_size + 1)\n",
    "fr_x_oh_shifted = np.zeros(shape, dtype=np.int32)\n",
    "\n",
    "shape = (num_shifted_sent, max_french_sequence_length, 1)\n",
    "fr_y_shifted = np.zeros(shape, dtype=np.int32)\n",
    "\n",
    "# populate the shifted french sentences\n",
    "from tqdm import tqdm\n",
    "for sent_idx in tqdm(range(len(fr_x))):\n",
    "    sent = fr_x[sent_idx]\n",
    "    sent_oh = fr_x_oh[sent_idx]\n",
    "    base_idx = sent_idx*max_french_sequence_length\n",
    "    \n",
    "    for shift_idx in range(max_french_sequence_length):\n",
    "        shifted_sent_idx = base_idx + shift_idx  \n",
    "        for idx in range(shift_idx):\n",
    "            fr_x_oh_shifted[shifted_sent_idx, idx] = sent_oh[idx]\n",
    "            \n",
    "        for idx in range(shift_idx+1):\n",
    "            fr_y_shifted[shifted_sent_idx, idx] = sent[idx]\n",
    "        \n",
    "eng_x = pad(preproc_english_sentences, max_french_sequence_length)\n",
    "eng_x = eng_x.reshape((-1, preproc_french_sentences.shape[-2], 1))\n",
    "eng_x_oh = one_hot(eng_x, english_vocab_size)\n",
    "\n",
    "# Train the neural network\n",
    "\"\"\"\n",
    "training_model, encoder, decoder = encdec_models2(tmp_x_oh.shape,\n",
    "                                                  fr_x_oh.shape,\n",
    "                                                  max_french_sequence_length,\n",
    "                                                  english_vocab_size,\n",
    "                                                  french_vocab_size + 1)\n",
    "\n",
    "print(training_model.summary())\n",
    "\n",
    "encdec_rnn_model.fit([eng_x_oh, fr_x_oh, fr_y, batch_size=1024, epochs=10, validation_split=0.2)\n",
    "\"\"\""
   ]
  },
  {
   "cell_type": "markdown",
   "metadata": {},
   "source": [
    "### Model 5: Custom (IMPLEMENTATION)\n",
    "Use everything you learned from the previous models to create a model that incorporates embedding and a bidirectional rnn into one model."
   ]
  },
  {
   "cell_type": "code",
   "execution_count": null,
   "metadata": {
    "collapsed": true
   },
   "outputs": [],
   "source": [
    "def model_final(input_shape, output_sequence_length, english_vocab_size, french_vocab_size):\n",
    "    \"\"\"\n",
    "    Build and train a model that incorporates embedding, encoder-decoder, and bidirectional RNN on x and y\n",
    "    :param input_shape: Tuple of input shape\n",
    "    :param output_sequence_length: Length of output sequence\n",
    "    :param english_vocab_size: Number of unique English words in the dataset\n",
    "    :param french_vocab_size: Number of unique French words in the dataset\n",
    "    :return: Keras model built, but not trained\n",
    "    \"\"\"\n",
    "    # TODO: Implement\n",
    "    return None\n",
    "tests.test_model_final(model_final)\n",
    "\n",
    "\n",
    "print('Final Model Loaded')\n",
    "# TODO: Train the final model"
   ]
  },
  {
   "cell_type": "markdown",
   "metadata": {},
   "source": [
    "## Prediction (IMPLEMENTATION)"
   ]
  },
  {
   "cell_type": "code",
   "execution_count": null,
   "metadata": {
    "collapsed": true
   },
   "outputs": [],
   "source": [
    "def final_predictions(x, y, x_tk, y_tk):\n",
    "    \"\"\"\n",
    "    Gets predictions using the final model\n",
    "    :param x: Preprocessed English data\n",
    "    :param y: Preprocessed French data\n",
    "    :param x_tk: English tokenizer\n",
    "    :param y_tk: French tokenizer\n",
    "    \"\"\"\n",
    "    # TODO: Train neural network using model_final\n",
    "    model = None\n",
    "\n",
    "    \n",
    "    ## DON'T EDIT ANYTHING BELOW THIS LINE\n",
    "    y_id_to_word = {value: key for key, value in y_tk.word_index.items()}\n",
    "    y_id_to_word[0] = '<PAD>'\n",
    "\n",
    "    sentence = 'he saw a old yellow truck'\n",
    "    sentence = [x_tk.word_index[word] for word in sentence.split()]\n",
    "    sentence = pad_sequences([sentence], maxlen=x.shape[-1], padding='post')\n",
    "    sentences = np.array([sentence[0], x[0]])\n",
    "    predictions = model.predict(sentences, len(sentences))\n",
    "\n",
    "    print('Sample 1:')\n",
    "    print(' '.join([y_id_to_word[np.argmax(x)] for x in predictions[0]]))\n",
    "    print('Il a vu un vieux camion jaune')\n",
    "    print('Sample 2:')\n",
    "    print(' '.join([y_id_to_word[np.argmax(x)] for x in predictions[1]]))\n",
    "    print(' '.join([y_id_to_word[np.max(x)] for x in y[0]]))\n",
    "\n",
    "\n",
    "final_predictions(preproc_english_sentences, preproc_french_sentences, english_tokenizer, french_tokenizer)"
   ]
  },
  {
   "cell_type": "markdown",
   "metadata": {},
   "source": [
    "## Submission\n",
    "When you're ready to submit, complete the following steps:\n",
    "1. Review the [rubric](https://review.udacity.com/#!/rubrics/1004/view) to ensure your submission meets all requirements to pass\n",
    "2. Generate an HTML version of this notebook\n",
    "\n",
    "  - Run the next cell to attempt automatic generation (this is the recommended method in Workspaces)\n",
    "  - Navigate to **FILE -> Download as -> HTML (.html)**\n",
    "  - Manually generate a copy using `nbconvert` from your shell terminal\n",
    "```\n",
    "$ pip install nbconvert\n",
    "$ python -m nbconvert machine_translation.ipynb\n",
    "```\n",
    "  \n",
    "3. Submit the project\n",
    "\n",
    "  - If you are in a Workspace, simply click the \"Submit Project\" button (bottom towards the right)\n",
    "  \n",
    "  - Otherwise, add the following files into a zip archive and submit them \n",
    "  - `helper.py`\n",
    "  - `machine_translation.ipynb`\n",
    "  - `machine_translation.html`\n",
    "    - You can export the notebook by navigating to **File -> Download as -> HTML (.html)**."
   ]
  },
  {
   "cell_type": "code",
   "execution_count": null,
   "metadata": {
    "collapsed": true
   },
   "outputs": [],
   "source": [
    "!!python -m nbconvert *.ipynb"
   ]
  },
  {
   "cell_type": "markdown",
   "metadata": {},
   "source": [
    "## Optional Enhancements\n",
    "\n",
    "This project focuses on learning various network architectures for machine translation, but we don't evaluate the models according to best practices by splitting the data into separate test & training sets -- so the model accuracy is overstated. Use the [`sklearn.model_selection.train_test_split()`](http://scikit-learn.org/stable/modules/generated/sklearn.model_selection.train_test_split.html) function to create separate training & test datasets, then retrain each of the models using only the training set and evaluate the prediction accuracy using the hold out test set. Does the \"best\" model change?"
   ]
  }
 ],
 "metadata": {
  "kernelspec": {
   "display_name": "nlpp",
   "language": "python",
   "name": "nlpp"
  },
  "language_info": {
   "codemirror_mode": {
    "name": "ipython",
    "version": 3
   },
   "file_extension": ".py",
   "mimetype": "text/x-python",
   "name": "python",
   "nbconvert_exporter": "python",
   "pygments_lexer": "ipython3",
   "version": "3.6.2"
  }
 },
 "nbformat": 4,
 "nbformat_minor": 1
}
